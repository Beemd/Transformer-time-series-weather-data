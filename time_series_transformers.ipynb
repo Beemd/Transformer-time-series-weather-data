{
  "nbformat": 4,
  "nbformat_minor": 0,
  "metadata": {
    "colab": {
      "name": "time_series_transformers.ipynb",
      "provenance": [],
      "collapsed_sections": []
    },
    "kernelspec": {
      "name": "python3",
      "display_name": "Python 3"
    },
    "accelerator": "GPU"
  },
  "cells": [
    {
      "cell_type": "code",
      "metadata": {
        "id": "VzP9p5MAVd8j"
      },
      "source": [
        "import os\n",
        "import datetime\n",
        "\n",
        "import IPython\n",
        "import IPython.display\n",
        "import matplotlib as mpl\n",
        "import matplotlib.pyplot as plt\n",
        "import numpy as np\n",
        "import pandas as pd\n",
        "import seaborn as sns\n",
        "import tensorflow as tf\n",
        "\n",
        "mpl.rcParams['figure.figsize'] = (8, 6)\n",
        "mpl.rcParams['axes.grid'] = False"
      ],
      "execution_count": 1,
      "outputs": []
    },
    {
      "cell_type": "code",
      "metadata": {
        "id": "qAqFU8mBVufR",
        "outputId": "4b69b2d9-56fa-466b-d305-8767b22b410f",
        "colab": {
          "base_uri": "https://localhost:8080/",
          "height": 53
        }
      },
      "source": [
        "zip_path = tf.keras.utils.get_file(\n",
        "    origin='https://storage.googleapis.com/tensorflow/tf-keras-datasets/jena_climate_2009_2016.csv.zip',\n",
        "    fname='jena_climate_2009_2016.csv.zip',\n",
        "    extract=True)\n",
        "csv_path, _ = os.path.splitext(zip_path)"
      ],
      "execution_count": 2,
      "outputs": [
        {
          "output_type": "stream",
          "text": [
            "Downloading data from https://storage.googleapis.com/tensorflow/tf-keras-datasets/jena_climate_2009_2016.csv.zip\n",
            "13574144/13568290 [==============================] - 1s 0us/step\n"
          ],
          "name": "stdout"
        }
      ]
    },
    {
      "cell_type": "code",
      "metadata": {
        "id": "aT_p0eUaVyW2"
      },
      "source": [
        "#weather data collected after every 10 minutes. \n",
        "df = pd.read_csv(csv_path)\n",
        "#We want to predict the weather after every hour\n",
        "# slice [start:stop:step], starting from index 5 take every 6th record\n",
        "df = df[5::6]\n",
        "\n",
        "date_time = pd.to_datetime(df.pop('Date Time'), format='%d.%m.%Y %H:%M:%S')"
      ],
      "execution_count": 3,
      "outputs": []
    },
    {
      "cell_type": "code",
      "metadata": {
        "id": "hAnAKuxGaZ4m",
        "outputId": "b9054a4a-6b07-41c7-ef9a-57634b1cb46f",
        "colab": {
          "base_uri": "https://localhost:8080/",
          "height": 35
        }
      },
      "source": [
        "#replacing erroneous values in the wind vecolity data, like -9999 with 0\n",
        "#min wind velocity\n",
        "wv = df['wv (m/s)']\n",
        "bad_wv = wv == -9999.0\n",
        "wv[bad_wv] = 0.0\n",
        "\n",
        "#max wind velocity\n",
        "max_wv = df['max. wv (m/s)']\n",
        "bad_max_wv = max_wv == -9999.0\n",
        "max_wv[bad_max_wv] = 0.0\n",
        "\n",
        "# The above inplace edits are reflected in the DataFrame\n",
        "df['wv (m/s)'].min()"
      ],
      "execution_count": 4,
      "outputs": [
        {
          "output_type": "execute_result",
          "data": {
            "text/plain": [
              "0.0"
            ]
          },
          "metadata": {
            "tags": []
          },
          "execution_count": 4
        }
      ]
    },
    {
      "cell_type": "code",
      "metadata": {
        "id": "BeF8m7hdahRB"
      },
      "source": [
        "#convert wind direction and velocity columns to a wind vector for the model to interpret easily\n",
        "wv = df.pop('wv (m/s)')\n",
        "max_wv = df.pop('max. wv (m/s)')\n",
        "\n",
        "# Convert to radians\n",
        "wd_rad = df.pop('wd (deg)')*np.pi / 180\n",
        "\n",
        "# Calculate the wind x and y components\n",
        "df['Wx'] = wv*np.cos(wd_rad)\n",
        "df['Wy'] = wv*np.sin(wd_rad)\n",
        "\n",
        "# Calculate the max wind x and y components\n",
        "df['max Wx'] = max_wv*np.cos(wd_rad)\n",
        "df['max Wy'] = max_wv*np.sin(wd_rad)"
      ],
      "execution_count": 5,
      "outputs": []
    },
    {
      "cell_type": "code",
      "metadata": {
        "id": "cvDKKsK-b_cd"
      },
      "source": [
        "#converting date-time into seconds\n",
        "timestamp_s = date_time.map(datetime.datetime.timestamp)"
      ],
      "execution_count": 9,
      "outputs": []
    },
    {
      "cell_type": "code",
      "metadata": {
        "id": "CZFYAsTLcCOX"
      },
      "source": [
        "#converting the date-time in seconds into sinusoidal function using sine and cosine\n",
        "day = 24*60*60\n",
        "year = (365.2425)*day\n",
        "\n",
        "df['Day sin'] = np.sin(timestamp_s * (2 * np.pi / day))\n",
        "df['Day cos'] = np.cos(timestamp_s * (2 * np.pi / day))\n",
        "df['Year sin'] = np.sin(timestamp_s * (2 * np.pi / year))\n",
        "df['Year cos'] = np.cos(timestamp_s * (2 * np.pi / year))"
      ],
      "execution_count": 8,
      "outputs": []
    },
    {
      "cell_type": "code",
      "metadata": {
        "id": "QJxRrDOWcIzU"
      },
      "source": [
        "#split data into training, validation and test (70%,20%,10%)\n",
        "column_indices = {name: i for i, name in enumerate(df.columns)}\n",
        "\n",
        "n = len(df)\n",
        "train_df = df[0:int(n*0.7)]\n",
        "val_df = df[int(n*0.7):int(n*0.9)]\n",
        "test_df = df[int(n*0.9):]\n",
        "\n",
        "num_features = df.shape[1]"
      ],
      "execution_count": 10,
      "outputs": []
    },
    {
      "cell_type": "code",
      "metadata": {
        "id": "HyQGnNGocKt-"
      },
      "source": [
        "#normalizing data by subtracting the mean and dividing by standard deviation.\n",
        "#mean and standard deviation are calculated using training data set only.\n",
        "train_mean = train_df.mean()\n",
        "train_std = train_df.std()\n",
        "\n",
        "train_df = (train_df - train_mean) / train_std\n",
        "val_df = (val_df - train_mean) / train_std\n",
        "test_df = (test_df - train_mean) / train_std"
      ],
      "execution_count": 11,
      "outputs": []
    },
    {
      "cell_type": "code",
      "metadata": {
        "id": "FFJe4y4GcPlw"
      },
      "source": [
        "class WindowGenerator():\n",
        "  def __init__(self, input_width, label_width, shift,\n",
        "               train_df=train_df, val_df=val_df, test_df=test_df,\n",
        "               label_columns=None):\n",
        "    # Store the raw data.\n",
        "    self.train_df = train_df\n",
        "    self.val_df = val_df\n",
        "    self.test_df = test_df\n",
        "\n",
        "    # Work out the label column indices.\n",
        "    self.label_columns = label_columns\n",
        "    if label_columns is not None:\n",
        "      self.label_columns_indices = {name: i for i, name in\n",
        "                                    enumerate(label_columns)}\n",
        "    self.column_indices = {name: i for i, name in\n",
        "                           enumerate(train_df.columns)}\n",
        "\n",
        "    # Work out the window parameters.\n",
        "    self.input_width = input_width\n",
        "    self.label_width = label_width\n",
        "    self.shift = shift\n",
        "\n",
        "    self.total_window_size = input_width + shift\n",
        "\n",
        "    self.input_slice = slice(0, input_width)\n",
        "    self.input_indices = np.arange(self.total_window_size)[self.input_slice]\n",
        "\n",
        "    self.label_start = self.total_window_size - self.label_width\n",
        "    self.labels_slice = slice(self.label_start, None)\n",
        "    self.label_indices = np.arange(self.total_window_size)[self.labels_slice]\n",
        "\n",
        "  def __repr__(self):\n",
        "    return '\\n'.join([\n",
        "        f'Total window size: {self.total_window_size}',\n",
        "        f'Input indices: {self.input_indices}',\n",
        "        f'Label indices: {self.label_indices}',\n",
        "        f'Label column name(s): {self.label_columns}'])\n",
        "\n",
        "\n",
        "#separate windows for inputs and labels\n",
        "def split_window(self, features):\n",
        "  inputs = features[:, self.input_slice, :]\n",
        "  labels = features[:, self.labels_slice, :]\n",
        "  if self.label_columns is not None:\n",
        "    labels = tf.stack(\n",
        "        [labels[:, :, self.column_indices[name]] for name in self.label_columns],\n",
        "        axis=-1)\n",
        "\n",
        "  # Slicing doesn't preserve static shape information, so set the shapes manually\n",
        "  inputs.set_shape([None, self.input_width, None])\n",
        "  labels.set_shape([None, self.label_width, None])\n",
        "\n",
        "  return inputs, labels\n",
        "\n",
        "WindowGenerator.split_window = split_window\n",
        "\n",
        "\n",
        "#converting data into input_window and label_window pairs\n",
        "def make_dataset(self, data):\n",
        "  data = np.array(data, dtype=np.float32)\n",
        "  ds = tf.keras.preprocessing.timeseries_dataset_from_array(\n",
        "      data=data,\n",
        "      targets=None,\n",
        "      sequence_length=self.total_window_size,\n",
        "      sequence_stride=1,\n",
        "      shuffle=True,\n",
        "      batch_size=64,)\n",
        "\n",
        "  ds = ds.map(self.split_window)\n",
        "\n",
        "  return ds\n",
        "\n",
        "WindowGenerator.make_dataset = make_dataset\n",
        "\n",
        "\n",
        "@property\n",
        "def train(self):\n",
        "  return self.make_dataset(self.train_df)\n",
        "\n",
        "@property\n",
        "def val(self):\n",
        "  return self.make_dataset(self.val_df)\n",
        "\n",
        "@property\n",
        "def test(self):\n",
        "  return self.make_dataset(self.test_df)\n",
        "\n",
        "\n",
        "WindowGenerator.train = train\n",
        "WindowGenerator.val = val\n",
        "WindowGenerator.test = test\n",
        "\n"
      ],
      "execution_count": 12,
      "outputs": []
    },
    {
      "cell_type": "code",
      "metadata": {
        "id": "37XlQOkAd3rF",
        "outputId": "324d4428-4d37-4dce-917a-3558a4788e97",
        "colab": {
          "base_uri": "https://localhost:8080/",
          "height": 108
        }
      },
      "source": [
        "#using WindowGenerator to define input and label windows\n",
        "#for temperature\n",
        "CONV_WIDTH = 48\n",
        "conv_window = WindowGenerator(\n",
        "    input_width=CONV_WIDTH,\n",
        "    label_width=1,\n",
        "    shift=1,\n",
        "    label_columns=['T (degC)'])\n",
        "\n",
        "conv_window"
      ],
      "execution_count": 13,
      "outputs": [
        {
          "output_type": "execute_result",
          "data": {
            "text/plain": [
              "Total window size: 49\n",
              "Input indices: [ 0  1  2  3  4  5  6  7  8  9 10 11 12 13 14 15 16 17 18 19 20 21 22 23\n",
              " 24 25 26 27 28 29 30 31 32 33 34 35 36 37 38 39 40 41 42 43 44 45 46 47]\n",
              "Label indices: [48]\n",
              "Label column name(s): ['T (degC)']"
            ]
          },
          "metadata": {
            "tags": []
          },
          "execution_count": 13
        }
      ]
    },
    {
      "cell_type": "code",
      "metadata": {
        "id": "Qtu4OuV5ZevR",
        "outputId": "ae666621-3d30-41c7-90f9-cb9a19fea262",
        "colab": {
          "base_uri": "https://localhost:8080/",
          "height": 53
        }
      },
      "source": [
        "conv_window.train\n",
        "for example_inputs, example_labels in conv_window.train.take(1):\n",
        "  print(f'Inputs shape (batch, time, features): {example_inputs.shape}')\n",
        "  print(f'Labels shape (batch, time, features): {example_labels.shape}')"
      ],
      "execution_count": 14,
      "outputs": [
        {
          "output_type": "stream",
          "text": [
            "Inputs shape (batch, time, features): (64, 48, 19)\n",
            "Labels shape (batch, time, features): (64, 1, 1)\n"
          ],
          "name": "stdout"
        }
      ]
    },
    {
      "cell_type": "code",
      "metadata": {
        "id": "gDi5VVGVBraE"
      },
      "source": [
        "###Transformer Functions###"
      ],
      "execution_count": 15,
      "outputs": []
    },
    {
      "cell_type": "code",
      "metadata": {
        "id": "sA8k83K-_saA"
      },
      "source": [
        "###Positionsl Encoding\n",
        "\n",
        "def get_angles(pos, i, d_model):\n",
        "  angle_rates = 1 / np.power(100, (2 * (i//2)) / np.float32(d_model))\n",
        "  return pos * angle_rates\n",
        "\n",
        "def positional_encoding(position, d_model):\n",
        "  angle_rads = get_angles(np.arange(position)[:, np.newaxis],\n",
        "                          np.arange(d_model)[np.newaxis, :],\n",
        "                          d_model)\n",
        "  \n",
        "  # apply sin to even indices in the array; 2i\n",
        "  angle_rads[:, 0::2] = np.sin(angle_rads[:, 0::2])\n",
        "  \n",
        "  # apply cos to odd indices in the array; 2i+1\n",
        "  angle_rads[:, 1::2] = np.cos(angle_rads[:, 1::2])\n",
        "    \n",
        "  pos_encoding = angle_rads[np.newaxis, ...]\n",
        "    \n",
        "  return tf.cast(pos_encoding, dtype=tf.float32)"
      ],
      "execution_count": 16,
      "outputs": []
    },
    {
      "cell_type": "code",
      "metadata": {
        "id": "4L4Z1elOLQm0"
      },
      "source": [
        "###Scaled Dot Product\n",
        "\n",
        "def scaled_dot_product_attention(q, k, v):\n",
        "\n",
        "\n",
        "  matmul_qk = tf.matmul(q, k, transpose_b=True) \n",
        "  \n",
        "  \n",
        "  dk = tf.cast(tf.shape(k)[-1], tf.float32)\n",
        "  scaled_attention_logits = matmul_qk / tf.math.sqrt(dk)\n",
        "\n",
        "\n",
        "  attention_weights = tf.nn.softmax(scaled_attention_logits, axis=-1)  \n",
        "\n",
        "  output = tf.matmul(attention_weights, v)  \n",
        "\n",
        "  return output, attention_weights\n"
      ],
      "execution_count": 17,
      "outputs": []
    },
    {
      "cell_type": "code",
      "metadata": {
        "id": "V2mb-aDIMrnr"
      },
      "source": [
        "class MultiHeadAttention(tf.keras.layers.Layer):\n",
        "  def __init__(self, d_model, num_heads):\n",
        "    super(MultiHeadAttention, self).__init__()\n",
        "    self.num_heads = num_heads\n",
        "    self.d_model = d_model\n",
        "    \n",
        "    assert d_model % self.num_heads == 0\n",
        "    \n",
        "    self.depth = d_model // self.num_heads\n",
        "    \n",
        "    self.wq = tf.keras.layers.Dense(d_model)\n",
        "    self.wk = tf.keras.layers.Dense(d_model)\n",
        "    self.wv = tf.keras.layers.Dense(d_model)\n",
        "    \n",
        "    self.dense = tf.keras.layers.Dense(d_model)\n",
        "        \n",
        "  def split_heads(self, x, batch_size):\n",
        "\n",
        "    x = tf.reshape(x, (batch_size, -1, self.num_heads, self.depth))\n",
        "    return tf.transpose(x, perm=[0, 2, 1, 3])\n",
        "    \n",
        "  def call(self, v, k, q):\n",
        "    batch_size = tf.shape(q)[0]\n",
        "    \n",
        "    q = self.wq(q)  # (batch_size, seq_len, d_model)\n",
        "    k = self.wk(k)  # (batch_size, seq_len, d_model)\n",
        "    v = self.wv(v)  # (batch_size, seq_len, d_model)\n",
        "    \n",
        "    q = self.split_heads(q, batch_size)  # (batch_size, num_heads, seq_len_q, depth)\n",
        "    k = self.split_heads(k, batch_size)  # (batch_size, num_heads, seq_len_k, depth)\n",
        "    v = self.split_heads(v, batch_size)  # (batch_size, num_heads, seq_len_v, depth)\n",
        "    \n",
        "    # scaled_attention.shape == (batch_size, num_heads, seq_len_q, depth)\n",
        "    # attention_weights.shape == (batch_size, num_heads, seq_len_q, seq_len_k)\n",
        "    scaled_attention, attention_weights = scaled_dot_product_attention(\n",
        "        q, k, v)\n",
        "    \n",
        "    scaled_attention = tf.transpose(scaled_attention, perm=[0, 2, 1, 3])  \n",
        "\n",
        "    concat_attention = tf.reshape(scaled_attention, \n",
        "                                  (batch_size, -1, self.d_model))  \n",
        "    output = self.dense(concat_attention)  \n",
        "        \n",
        "    return output, attention_weights"
      ],
      "execution_count": 18,
      "outputs": []
    },
    {
      "cell_type": "code",
      "metadata": {
        "id": "1a7_tXa7M792"
      },
      "source": [
        "def point_wise_feed_forward_network(d_model, dff):\n",
        "  return tf.keras.Sequential([\n",
        "      tf.keras.layers.Dense(dff, activation='relu'),  # (batch_size, seq_len, dff)\n",
        "      tf.keras.layers.Dense(d_model)  # (batch_size, seq_len, d_model)\n",
        "  ])"
      ],
      "execution_count": 19,
      "outputs": []
    },
    {
      "cell_type": "code",
      "metadata": {
        "id": "4MXAOXEbM8fS"
      },
      "source": [
        "class EncoderLayer(tf.keras.layers.Layer):\n",
        "  def __init__(self, d_model, num_heads, dff, rate):\n",
        "    super(EncoderLayer, self).__init__()\n",
        "\n",
        "    self.mha = MultiHeadAttention(d_model, num_heads)\n",
        "    self.ffn = point_wise_feed_forward_network(d_model, dff)\n",
        "\n",
        "    self.layernorm1 = tf.keras.layers.LayerNormalization(epsilon=1e-6)\n",
        "    self.layernorm2 = tf.keras.layers.LayerNormalization(epsilon=1e-6)\n",
        "    \n",
        "    self.dropout1 = tf.keras.layers.Dropout(rate)\n",
        "    self.dropout2 = tf.keras.layers.Dropout(rate)\n",
        "    \n",
        "  def call(self, x, training):\n",
        "\n",
        "    attn_output, _ = self.mha(x, x, x)  # (batch_size, input_seq_len, d_model)\n",
        "    attn_output = self.dropout1(attn_output, training=training)\n",
        "    out1 = self.layernorm1(x + attn_output)  # (batch_size, input_seq_len, d_model)\n",
        "    \n",
        "    ffn_output = self.ffn(out1)  # (batch_size, input_seq_len, d_model)\n",
        "    ffn_output = self.dropout2(ffn_output, training=training)\n",
        "    out2 = self.layernorm2(out1 + ffn_output)  # (batch_size, input_seq_len, d_model)\n",
        "    \n",
        "    return out2"
      ],
      "execution_count": 20,
      "outputs": []
    },
    {
      "cell_type": "code",
      "metadata": {
        "id": "XhLmv18cNDxj"
      },
      "source": [
        "#Transformer encoding component\n",
        "class Encoder(tf.keras.layers.Layer):\n",
        "  def __init__(self, num_layers, d_model, num_heads, dff, \n",
        "               maximum_position_encoding, rate):\n",
        "    super(Encoder, self).__init__()\n",
        "\n",
        "    self.d_model = d_model\n",
        "    self.num_layers = num_layers\n",
        "    \n",
        "    self.pos_encoding = positional_encoding(maximum_position_encoding, \n",
        "                                            self.d_model)    \n",
        "    \n",
        "    self.enc_layers = [EncoderLayer(d_model, num_heads, dff, rate) \n",
        "                       for _ in range(num_layers)]\n",
        "  \n",
        "    self.dropout = tf.keras.layers.Dropout(rate)\n",
        "        \n",
        "  def call(self, x, training):\n",
        "\n",
        "    seq_len = tf.shape(x)[1]\n",
        "    \n",
        "    # There are no embeddings - Just the input added to the positional encoding.\n",
        "    x += self.pos_encoding[:, :seq_len, :]\n",
        "    x = self.dropout(x, training=training)\n",
        "    \n",
        "    for i in range(self.num_layers):\n",
        "      x = self.enc_layers[i](x, training)\n",
        "    \n",
        "    return x  # (batch_size, input_seq_len, d_model)"
      ],
      "execution_count": 21,
      "outputs": []
    },
    {
      "cell_type": "code",
      "metadata": {
        "id": "QR9s7ckINKjL"
      },
      "source": [
        "class Transformer(tf.keras.layers.Layer):\n",
        "  def __init__(self, num_layers=4, d_model=48, num_heads=4, dff=16,  \n",
        "               pe_input=100, rate=0.1):\n",
        "    super(Transformer, self).__init__()\n",
        "\n",
        "    self.encoder = Encoder(num_layers, d_model, num_heads, dff, pe_input, rate)\n",
        "\n",
        "  def call(self, inp, training):\n",
        "\n",
        "    enc_output = self.encoder(inp, training)  # (batch_size, inp_seq_len, d_model)\n",
        "\n",
        "    \n",
        "    return enc_output"
      ],
      "execution_count": 22,
      "outputs": []
    },
    {
      "cell_type": "code",
      "metadata": {
        "id": "q7AZnCOo_1sf"
      },
      "source": [
        "# Model Skeleton\n",
        "\n",
        "MAX_EPOCHS = 20\n",
        "\n",
        "def compile_and_fit(model, window, patience=5):\n",
        "  early_stopping = tf.keras.callbacks.EarlyStopping(monitor='val_loss',\n",
        "                                                    patience=patience,\n",
        "                                                    mode='min')\n",
        "\n",
        "  model.compile(loss=tf.losses.MeanSquaredError(),\n",
        "                optimizer=tf.optimizers.Adam(),\n",
        "                metrics=[tf.metrics.MeanAbsoluteError()])\n",
        "\n",
        "  history = model.fit(window.train, epochs=MAX_EPOCHS,\n",
        "                      validation_data=window.val,\n",
        "                      callbacks=[early_stopping])\n",
        "  return history, model\n",
        "\n",
        "val_performance = {}\n",
        "performance = {}"
      ],
      "execution_count": 25,
      "outputs": []
    },
    {
      "cell_type": "code",
      "metadata": {
        "id": "6SVoDO4wYdPg",
        "outputId": "9e825425-7d40-449a-a219-29860a149c1b",
        "colab": {
          "base_uri": "https://localhost:8080/",
          "height": 1000
        }
      },
      "source": [
        "transformer_model = tf.keras.models.Sequential([\n",
        "    tf.keras.Input(shape=(48, 19)), \n",
        "    tf.keras.layers.Dense(48), \n",
        "    Transformer(),\n",
        "    #tf.keras.layers.\n",
        "    tf.keras.layers.GlobalMaxPooling1D(),\n",
        "    # Shape => [batch, time, features]\n",
        "    tf.keras.layers.Dense(units=1)  \n",
        "])\n",
        "\n",
        "\n",
        "MAX_EPOCHS = 20\n",
        "\n",
        "transformer_model.compile(loss=tf.losses.MeanSquaredError(),\n",
        "                optimizer=tf.optimizers.Adam(),\n",
        "                metrics=[tf.metrics.MeanAbsoluteError()])\n",
        "transformer_model.summary()\n",
        "\n",
        "history = transformer_model.fit(conv_window.train, epochs=MAX_EPOCHS,\n",
        "                      validation_data=conv_window.val)\n"
      ],
      "execution_count": 23,
      "outputs": [
        {
          "output_type": "stream",
          "text": [
            "Model: \"sequential_4\"\n",
            "_________________________________________________________________\n",
            "Layer (type)                 Output Shape              Param #   \n",
            "=================================================================\n",
            "dense (Dense)                (None, 48, 48)            960       \n",
            "_________________________________________________________________\n",
            "transformer (Transformer)    (None, 48, 48)            44800     \n",
            "_________________________________________________________________\n",
            "global_max_pooling1d (Global (None, 48)                0         \n",
            "_________________________________________________________________\n",
            "dense_25 (Dense)             (None, 1)                 49        \n",
            "=================================================================\n",
            "Total params: 45,809\n",
            "Trainable params: 45,809\n",
            "Non-trainable params: 0\n",
            "_________________________________________________________________\n",
            "Epoch 1/20\n",
            "766/766 [==============================] - 20s 26ms/step - loss: 0.0617 - mean_absolute_error: 0.1786 - val_loss: 0.1504 - val_mean_absolute_error: 0.3682\n",
            "Epoch 2/20\n",
            "766/766 [==============================] - 20s 26ms/step - loss: 0.0216 - mean_absolute_error: 0.1130 - val_loss: 0.0594 - val_mean_absolute_error: 0.2029\n",
            "Epoch 3/20\n",
            "766/766 [==============================] - 19s 25ms/step - loss: 0.0174 - mean_absolute_error: 0.1011 - val_loss: 0.0315 - val_mean_absolute_error: 0.1479\n",
            "Epoch 4/20\n",
            "766/766 [==============================] - 19s 25ms/step - loss: 0.0154 - mean_absolute_error: 0.0946 - val_loss: 0.0167 - val_mean_absolute_error: 0.1036\n",
            "Epoch 5/20\n",
            "766/766 [==============================] - 20s 26ms/step - loss: 0.0143 - mean_absolute_error: 0.0904 - val_loss: 0.0118 - val_mean_absolute_error: 0.0850\n",
            "Epoch 6/20\n",
            "766/766 [==============================] - 20s 26ms/step - loss: 0.0133 - mean_absolute_error: 0.0870 - val_loss: 0.0137 - val_mean_absolute_error: 0.0905\n",
            "Epoch 7/20\n",
            "766/766 [==============================] - 19s 25ms/step - loss: 0.0124 - mean_absolute_error: 0.0839 - val_loss: 0.0140 - val_mean_absolute_error: 0.0853\n",
            "Epoch 8/20\n",
            "766/766 [==============================] - 19s 25ms/step - loss: 0.0119 - mean_absolute_error: 0.0818 - val_loss: 0.0108 - val_mean_absolute_error: 0.0787\n",
            "Epoch 9/20\n",
            "766/766 [==============================] - 19s 25ms/step - loss: 0.0116 - mean_absolute_error: 0.0804 - val_loss: 0.0158 - val_mean_absolute_error: 0.0861\n",
            "Epoch 10/20\n",
            "766/766 [==============================] - 19s 25ms/step - loss: 0.0112 - mean_absolute_error: 0.0790 - val_loss: 0.0103 - val_mean_absolute_error: 0.0685\n",
            "Epoch 11/20\n",
            "766/766 [==============================] - 19s 25ms/step - loss: 0.0111 - mean_absolute_error: 0.0788 - val_loss: 0.0138 - val_mean_absolute_error: 0.0849\n",
            "Epoch 12/20\n",
            "766/766 [==============================] - 19s 25ms/step - loss: 0.0106 - mean_absolute_error: 0.0767 - val_loss: 0.0166 - val_mean_absolute_error: 0.1038\n",
            "Epoch 13/20\n",
            "766/766 [==============================] - 19s 25ms/step - loss: 0.0106 - mean_absolute_error: 0.0765 - val_loss: 0.0119 - val_mean_absolute_error: 0.0778\n",
            "Epoch 14/20\n",
            "766/766 [==============================] - 19s 25ms/step - loss: 0.0102 - mean_absolute_error: 0.0754 - val_loss: 0.0092 - val_mean_absolute_error: 0.0677\n",
            "Epoch 15/20\n",
            "766/766 [==============================] - 19s 25ms/step - loss: 0.0100 - mean_absolute_error: 0.0745 - val_loss: 0.0104 - val_mean_absolute_error: 0.0757\n",
            "Epoch 16/20\n",
            "766/766 [==============================] - 19s 25ms/step - loss: 0.0099 - mean_absolute_error: 0.0738 - val_loss: 0.0122 - val_mean_absolute_error: 0.0836\n",
            "Epoch 17/20\n",
            "766/766 [==============================] - 19s 25ms/step - loss: 0.0095 - mean_absolute_error: 0.0723 - val_loss: 0.0089 - val_mean_absolute_error: 0.0705\n",
            "Epoch 18/20\n",
            "766/766 [==============================] - 20s 26ms/step - loss: 0.0097 - mean_absolute_error: 0.0728 - val_loss: 0.0141 - val_mean_absolute_error: 0.0847\n",
            "Epoch 19/20\n",
            "766/766 [==============================] - 19s 24ms/step - loss: 0.0093 - mean_absolute_error: 0.0714 - val_loss: 0.0149 - val_mean_absolute_error: 0.0998\n",
            "Epoch 20/20\n",
            "766/766 [==============================] - 19s 25ms/step - loss: 0.0095 - mean_absolute_error: 0.0719 - val_loss: 0.0124 - val_mean_absolute_error: 0.0832\n"
          ],
          "name": "stdout"
        }
      ]
    },
    {
      "cell_type": "code",
      "metadata": {
        "id": "f_EpbOeqeJRX",
        "outputId": "c9ae91ae-4723-49b5-9fbe-0bd0c3d69869",
        "colab": {
          "base_uri": "https://localhost:8080/",
          "height": 313
        }
      },
      "source": [
        "plt.plot(history.history['loss'])\n",
        "plt.plot(history.history['val_loss'])\n",
        "plt.title('model loss')\n",
        "plt.ylabel('loss')\n",
        "plt.xlabel('epoch')\n",
        "plt.legend(['train', 'test'], loc='upper left')\n",
        "plt.show()\n",
        "\n",
        "val_performance['Transformer'] = transformer_model.evaluate(conv_window.val)\n",
        "performance['Transformer'] = transformer_model.evaluate(conv_window.test, verbose=0)"
      ],
      "execution_count": 26,
      "outputs": [
        {
          "output_type": "display_data",
          "data": {
            "image/png": "[encoded data removed]",
            "text/plain": [
              "<Figure size 432x288 with 1 Axes>"
            ]
          },
          "metadata": {
            "tags": [],
            "needs_background": "light"
          }
        },
        {
          "output_type": "stream",
          "text": [
            "219/219 [==============================] - 3s 13ms/step - loss: 0.0124 - mean_absolute_error: 0.0832\n"
          ],
          "name": "stdout"
        }
      ]
    }
  ]
}